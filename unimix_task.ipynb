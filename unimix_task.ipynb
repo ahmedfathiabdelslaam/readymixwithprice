{
 "cells": [
  {
   "cell_type": "code",
   "execution_count": 30,
   "id": "7f51410f",
   "metadata": {},
   "outputs": [],
   "source": [
    "#import all require libs\n",
    "import pandas as pd\n",
    "import numpy as np \n",
    "import matplotlib.pyplot as plt\n",
    "import seaborn as sns"
   ]
  },
  {
   "cell_type": "code",
   "execution_count": 31,
   "id": "802bc756",
   "metadata": {},
   "outputs": [],
   "source": [
    "df = pd.ExcelFile(\"Data Analysis Exercise with Prices.xlsx\")\n"
   ]
  },
  {
   "cell_type": "code",
   "execution_count": 32,
   "id": "60d8bc7f",
   "metadata": {},
   "outputs": [],
   "source": [
    "#read dataframes\n",
    "transactions = pd.read_excel(df, 'trans')\n"
   ]
  },
  {
   "cell_type": "code",
   "execution_count": 33,
   "id": "1de6fa9c",
   "metadata": {},
   "outputs": [],
   "source": [
    "price = pd.read_excel(df, 'Prices')\n"
   ]
  },
  {
   "cell_type": "code",
   "execution_count": 34,
   "id": "95f03499",
   "metadata": {},
   "outputs": [
    {
     "data": {
      "text/html": [
       "<div>\n",
       "<style scoped>\n",
       "    .dataframe tbody tr th:only-of-type {\n",
       "        vertical-align: middle;\n",
       "    }\n",
       "\n",
       "    .dataframe tbody tr th {\n",
       "        vertical-align: top;\n",
       "    }\n",
       "\n",
       "    .dataframe thead th {\n",
       "        text-align: right;\n",
       "    }\n",
       "</style>\n",
       "<table border=\"1\" class=\"dataframe\">\n",
       "  <thead>\n",
       "    <tr style=\"text-align: right;\">\n",
       "      <th></th>\n",
       "      <th>الشهر</th>\n",
       "      <th>المنطقة</th>\n",
       "      <th>المحطة</th>\n",
       "      <th>WOID</th>\n",
       "      <th>TrnID</th>\n",
       "      <th>Customer Name</th>\n",
       "      <th>Customer_Code</th>\n",
       "      <th>Project Name</th>\n",
       "      <th>Project Location</th>\n",
       "      <th>Order Quantity</th>\n",
       "      <th>...</th>\n",
       "      <th>Pumped Quantity</th>\n",
       "      <th>Pump Operator code</th>\n",
       "      <th>Pump Operator Name</th>\n",
       "      <th>Truck Name</th>\n",
       "      <th>Truck Quantity</th>\n",
       "      <th>User Name</th>\n",
       "      <th>week</th>\n",
       "      <th>Time</th>\n",
       "      <th>Mixer ahmed Ragab</th>\n",
       "      <th>TM</th>\n",
       "    </tr>\n",
       "  </thead>\n",
       "  <tbody>\n",
       "    <tr>\n",
       "      <th>0</th>\n",
       "      <td>إبريل</td>\n",
       "      <td>F</td>\n",
       "      <td>F</td>\n",
       "      <td>5141.0</td>\n",
       "      <td>33289.0</td>\n",
       "      <td>اوراسكوم للانشاءات</td>\n",
       "      <td>100025</td>\n",
       "      <td>NaN</td>\n",
       "      <td>قاعده محطه 12</td>\n",
       "      <td>420.0</td>\n",
       "      <td>...</td>\n",
       "      <td>0.0</td>\n",
       "      <td>NaN</td>\n",
       "      <td>NaN</td>\n",
       "      <td>TM178</td>\n",
       "      <td>10.0</td>\n",
       "      <td>محمودعبدالمنعم احمد</td>\n",
       "      <td>17</td>\n",
       "      <td>23:37:19</td>\n",
       "      <td>TMTM178</td>\n",
       "      <td>TM</td>\n",
       "    </tr>\n",
       "    <tr>\n",
       "      <th>1</th>\n",
       "      <td>إبريل</td>\n",
       "      <td>F</td>\n",
       "      <td>F</td>\n",
       "      <td>5141.0</td>\n",
       "      <td>33288.0</td>\n",
       "      <td>اوراسكوم للانشاءات</td>\n",
       "      <td>100025</td>\n",
       "      <td>NaN</td>\n",
       "      <td>قاعده محطه 12</td>\n",
       "      <td>420.0</td>\n",
       "      <td>...</td>\n",
       "      <td>0.0</td>\n",
       "      <td>NaN</td>\n",
       "      <td>NaN</td>\n",
       "      <td>TM181</td>\n",
       "      <td>10.0</td>\n",
       "      <td>محمودعبدالمنعم احمد</td>\n",
       "      <td>17</td>\n",
       "      <td>23:26:22</td>\n",
       "      <td>TMTM181</td>\n",
       "      <td>TM</td>\n",
       "    </tr>\n",
       "    <tr>\n",
       "      <th>2</th>\n",
       "      <td>إبريل</td>\n",
       "      <td>F</td>\n",
       "      <td>F</td>\n",
       "      <td>5141.0</td>\n",
       "      <td>33287.0</td>\n",
       "      <td>اوراسكوم للانشاءات</td>\n",
       "      <td>100025</td>\n",
       "      <td>NaN</td>\n",
       "      <td>قاعده محطه 12</td>\n",
       "      <td>420.0</td>\n",
       "      <td>...</td>\n",
       "      <td>0.0</td>\n",
       "      <td>NaN</td>\n",
       "      <td>NaN</td>\n",
       "      <td>TM182</td>\n",
       "      <td>10.0</td>\n",
       "      <td>محمودعبدالمنعم احمد</td>\n",
       "      <td>17</td>\n",
       "      <td>23:19:00</td>\n",
       "      <td>TMTM182</td>\n",
       "      <td>TM</td>\n",
       "    </tr>\n",
       "    <tr>\n",
       "      <th>3</th>\n",
       "      <td>إبريل</td>\n",
       "      <td>F</td>\n",
       "      <td>F</td>\n",
       "      <td>5141.0</td>\n",
       "      <td>33286.0</td>\n",
       "      <td>اوراسكوم للانشاءات</td>\n",
       "      <td>100025</td>\n",
       "      <td>NaN</td>\n",
       "      <td>قاعده محطه 12</td>\n",
       "      <td>420.0</td>\n",
       "      <td>...</td>\n",
       "      <td>0.0</td>\n",
       "      <td>NaN</td>\n",
       "      <td>NaN</td>\n",
       "      <td>TM182</td>\n",
       "      <td>10.0</td>\n",
       "      <td>محمودعبدالمنعم احمد</td>\n",
       "      <td>17</td>\n",
       "      <td>22:57:34</td>\n",
       "      <td>TMTM182</td>\n",
       "      <td>TM</td>\n",
       "    </tr>\n",
       "    <tr>\n",
       "      <th>4</th>\n",
       "      <td>إبريل</td>\n",
       "      <td>F</td>\n",
       "      <td>F</td>\n",
       "      <td>5141.0</td>\n",
       "      <td>33285.0</td>\n",
       "      <td>اوراسكوم للانشاءات</td>\n",
       "      <td>100025</td>\n",
       "      <td>NaN</td>\n",
       "      <td>قاعده محطه 12</td>\n",
       "      <td>420.0</td>\n",
       "      <td>...</td>\n",
       "      <td>0.0</td>\n",
       "      <td>NaN</td>\n",
       "      <td>NaN</td>\n",
       "      <td>TM180</td>\n",
       "      <td>10.0</td>\n",
       "      <td>محمودعبدالمنعم احمد</td>\n",
       "      <td>17</td>\n",
       "      <td>22:54:56</td>\n",
       "      <td>TMTM180</td>\n",
       "      <td>TM</td>\n",
       "    </tr>\n",
       "  </tbody>\n",
       "</table>\n",
       "<p>5 rows × 33 columns</p>\n",
       "</div>"
      ],
      "text/plain": [
       "   الشهر المنطقة المحطة    WOID    TrnID       Customer Name Customer_Code  \\\n",
       "0  إبريل       F      F  5141.0  33289.0  اوراسكوم للانشاءات        100025   \n",
       "1  إبريل       F      F  5141.0  33288.0  اوراسكوم للانشاءات        100025   \n",
       "2  إبريل       F      F  5141.0  33287.0  اوراسكوم للانشاءات        100025   \n",
       "3  إبريل       F      F  5141.0  33286.0  اوراسكوم للانشاءات        100025   \n",
       "4  إبريل       F      F  5141.0  33285.0  اوراسكوم للانشاءات        100025   \n",
       "\n",
       "  Project Name Project Location  Order Quantity  ... Pumped Quantity  \\\n",
       "0          NaN    قاعده محطه 12           420.0  ...             0.0   \n",
       "1          NaN    قاعده محطه 12           420.0  ...             0.0   \n",
       "2          NaN    قاعده محطه 12           420.0  ...             0.0   \n",
       "3          NaN    قاعده محطه 12           420.0  ...             0.0   \n",
       "4          NaN    قاعده محطه 12           420.0  ...             0.0   \n",
       "\n",
       "  Pump Operator code Pump Operator Name Truck Name Truck Quantity  \\\n",
       "0                NaN                NaN      TM178           10.0   \n",
       "1                NaN                NaN      TM181           10.0   \n",
       "2                NaN                NaN      TM182           10.0   \n",
       "3                NaN                NaN      TM182           10.0   \n",
       "4                NaN                NaN      TM180           10.0   \n",
       "\n",
       "             User Name week      Time Mixer ahmed Ragab  TM  \n",
       "0  محمودعبدالمنعم احمد   17  23:37:19           TMTM178  TM  \n",
       "1  محمودعبدالمنعم احمد   17  23:26:22           TMTM181  TM  \n",
       "2  محمودعبدالمنعم احمد   17  23:19:00           TMTM182  TM  \n",
       "3  محمودعبدالمنعم احمد   17  22:57:34           TMTM182  TM  \n",
       "4  محمودعبدالمنعم احمد   17  22:54:56           TMTM180  TM  \n",
       "\n",
       "[5 rows x 33 columns]"
      ]
     },
     "execution_count": 34,
     "metadata": {},
     "output_type": "execute_result"
    }
   ],
   "source": [
    "#check the first rows in data \n",
    "transactions.head()"
   ]
  },
  {
   "cell_type": "code",
   "execution_count": 35,
   "id": "1bd5b10d",
   "metadata": {},
   "outputs": [
    {
     "data": {
      "text/html": [
       "<div>\n",
       "<style scoped>\n",
       "    .dataframe tbody tr th:only-of-type {\n",
       "        vertical-align: middle;\n",
       "    }\n",
       "\n",
       "    .dataframe tbody tr th {\n",
       "        vertical-align: top;\n",
       "    }\n",
       "\n",
       "    .dataframe thead th {\n",
       "        text-align: right;\n",
       "    }\n",
       "</style>\n",
       "<table border=\"1\" class=\"dataframe\">\n",
       "  <thead>\n",
       "    <tr style=\"text-align: right;\">\n",
       "      <th></th>\n",
       "      <th>Customer Name</th>\n",
       "      <th>Customer_Code</th>\n",
       "      <th>Cement Type</th>\n",
       "      <th>Project Location</th>\n",
       "      <th>Price</th>\n",
       "      <th>Valid From</th>\n",
       "      <th>Valid To</th>\n",
       "      <th>Unnamed: 7</th>\n",
       "      <th>Unnamed: 8</th>\n",
       "      <th>Unnamed: 9</th>\n",
       "      <th>Project Location.1</th>\n",
       "      <th>NOTES</th>\n",
       "    </tr>\n",
       "  </thead>\n",
       "  <tbody>\n",
       "    <tr>\n",
       "      <th>0</th>\n",
       "      <td>A.S.G.C. LLENSHAT</td>\n",
       "      <td>1000660</td>\n",
       "      <td>C/150/OPC/C</td>\n",
       "      <td>الشعفار</td>\n",
       "      <td>120</td>\n",
       "      <td>01.01.2021</td>\n",
       "      <td>03.01.2022</td>\n",
       "      <td>NaN</td>\n",
       "      <td>5.0</td>\n",
       "      <td>NaN</td>\n",
       "      <td>الشعفار</td>\n",
       "      <td>NaN</td>\n",
       "    </tr>\n",
       "    <tr>\n",
       "      <th>1</th>\n",
       "      <td>A.S.G.C. LLENSHAT</td>\n",
       "      <td>1000660</td>\n",
       "      <td>C/150/OPC/C</td>\n",
       "      <td>الشعفار</td>\n",
       "      <td>115</td>\n",
       "      <td>04.01.2022</td>\n",
       "      <td>16.01.2022</td>\n",
       "      <td>NaN</td>\n",
       "      <td>NaN</td>\n",
       "      <td>NaN</td>\n",
       "      <td>مجرى العيون</td>\n",
       "      <td>Higher than الشعفار by 15 EGP</td>\n",
       "    </tr>\n",
       "    <tr>\n",
       "      <th>2</th>\n",
       "      <td>A.S.G.C. LLENSHAT</td>\n",
       "      <td>1000660</td>\n",
       "      <td>C/150/OPC/C</td>\n",
       "      <td>الشعفار</td>\n",
       "      <td>110</td>\n",
       "      <td>16.01.2022</td>\n",
       "      <td>31.12.9999</td>\n",
       "      <td>NaN</td>\n",
       "      <td>NaN</td>\n",
       "      <td>NaN</td>\n",
       "      <td>الكيت كات</td>\n",
       "      <td>NaN</td>\n",
       "    </tr>\n",
       "    <tr>\n",
       "      <th>3</th>\n",
       "      <td>A.S.G.C. LLENSHAT</td>\n",
       "      <td>1000660</td>\n",
       "      <td>C0/150/OPC</td>\n",
       "      <td>الشعفار</td>\n",
       "      <td>150</td>\n",
       "      <td>01.01.2021</td>\n",
       "      <td>03.01.2022</td>\n",
       "      <td>NaN</td>\n",
       "      <td>NaN</td>\n",
       "      <td>NaN</td>\n",
       "      <td>سيتاديل</td>\n",
       "      <td>NaN</td>\n",
       "    </tr>\n",
       "    <tr>\n",
       "      <th>4</th>\n",
       "      <td>A.S.G.C. LLENSHAT</td>\n",
       "      <td>1000660</td>\n",
       "      <td>C0/150/OPC</td>\n",
       "      <td>الشعفار</td>\n",
       "      <td>145</td>\n",
       "      <td>04.01.2022</td>\n",
       "      <td>16.01.2022</td>\n",
       "      <td>NaN</td>\n",
       "      <td>NaN</td>\n",
       "      <td>NaN</td>\n",
       "      <td>imbaba workshop</td>\n",
       "      <td>Higher than ماسبيرو By 12 EGP</td>\n",
       "    </tr>\n",
       "  </tbody>\n",
       "</table>\n",
       "</div>"
      ],
      "text/plain": [
       "       Customer Name  Customer_Code  Cement Type Project Location  Price  \\\n",
       "0  A.S.G.C. LLENSHAT        1000660  C/150/OPC/C          الشعفار    120   \n",
       "1  A.S.G.C. LLENSHAT        1000660  C/150/OPC/C          الشعفار    115   \n",
       "2  A.S.G.C. LLENSHAT        1000660  C/150/OPC/C          الشعفار    110   \n",
       "3  A.S.G.C. LLENSHAT        1000660   C0/150/OPC          الشعفار    150   \n",
       "4  A.S.G.C. LLENSHAT        1000660   C0/150/OPC          الشعفار    145   \n",
       "\n",
       "   Valid From    Valid To  Unnamed: 7  Unnamed: 8  Unnamed: 9  \\\n",
       "0  01.01.2021  03.01.2022         NaN         5.0         NaN   \n",
       "1  04.01.2022  16.01.2022         NaN         NaN         NaN   \n",
       "2  16.01.2022  31.12.9999         NaN         NaN         NaN   \n",
       "3  01.01.2021  03.01.2022         NaN         NaN         NaN   \n",
       "4  04.01.2022  16.01.2022         NaN         NaN         NaN   \n",
       "\n",
       "  Project Location.1                          NOTES  \n",
       "0            الشعفار                            NaN  \n",
       "1        مجرى العيون  Higher than الشعفار by 15 EGP  \n",
       "2          الكيت كات                            NaN  \n",
       "3           سيتاديل                             NaN  \n",
       "4    imbaba workshop  Higher than ماسبيرو By 12 EGP  "
      ]
     },
     "execution_count": 35,
     "metadata": {},
     "output_type": "execute_result"
    }
   ],
   "source": [
    "#check the first rows in data \n",
    "price.head()"
   ]
  },
  {
   "cell_type": "code",
   "execution_count": 36,
   "id": "5a03403b",
   "metadata": {},
   "outputs": [],
   "source": [
    "#join tow table\n",
    "all_data = pd.merge(transactions, price, on = 'Customer_Code', how=\"inner\")\n"
   ]
  },
  {
   "cell_type": "code",
   "execution_count": 37,
   "id": "0b52c2f1",
   "metadata": {},
   "outputs": [
    {
     "data": {
      "text/plain": [
       "Index(['الشهر', 'المنطقة', 'المحطة', 'WOID', 'TrnID', 'Customer Name_x',\n",
       "       'Customer_Code', 'Project Name', 'Project Location_x', 'Order Quantity',\n",
       "       'Cement Type_x', 'Cement Content', 'Strength', 'Early Strength', 'Ice',\n",
       "       'Temperature', 'Cementitious Materials', 'Special Admixtures',\n",
       "       'WorkorderTime', 'الورديه', 'Driver Name', 'Truck no', 'Pump Name',\n",
       "       'Pumped Quantity', 'Pump Operator code', 'Pump Operator Name',\n",
       "       'Truck Name', 'Truck Quantity', 'User Name', 'week', 'Time',\n",
       "       'Mixer ahmed Ragab', 'TM', 'Customer Name_y', 'Cement Type_y',\n",
       "       'Project Location_y', 'Price', 'Valid From', 'Valid To', 'Unnamed: 7',\n",
       "       'Unnamed: 8', 'Unnamed: 9', 'Project Location.1', 'NOTES'],\n",
       "      dtype='object')"
      ]
     },
     "execution_count": 37,
     "metadata": {},
     "output_type": "execute_result"
    }
   ],
   "source": [
    "#check all columns after join\n",
    "all_data.columns"
   ]
  },
  {
   "cell_type": "code",
   "execution_count": 38,
   "id": "73304bdc",
   "metadata": {},
   "outputs": [],
   "source": [
    "# Drop columns I don't need it for analysis\n",
    "all_data.drop('Ice', axis=1, inplace =True) \n",
    "all_data.drop('Temperature', axis=1, inplace =True) \n",
    "all_data.drop('Driver Name', axis=1, inplace =True) \n",
    "all_data.drop('Truck no', axis=1, inplace =True) \n",
    "all_data.drop('Pump Operator code', axis=1, inplace =True) \n",
    "all_data.drop('Unnamed: 7', axis=1, inplace =True) \n",
    "all_data.drop('Unnamed: 8', axis=1, inplace =True)\n",
    "all_data.drop('Unnamed: 9', axis=1, inplace =True)\n",
    "all_data.drop('NOTES', axis=1, inplace =True)"
   ]
  },
  {
   "cell_type": "code",
   "execution_count": 39,
   "id": "206fe468",
   "metadata": {},
   "outputs": [
    {
     "data": {
      "text/plain": [
       "Index(['الشهر', 'المنطقة', 'المحطة', 'WOID', 'TrnID', 'Customer Name_x',\n",
       "       'Customer_Code', 'Project Name', 'Project Location_x', 'Order Quantity',\n",
       "       'Cement Type_x', 'Cement Content', 'Strength', 'Early Strength',\n",
       "       'Cementitious Materials', 'Special Admixtures', 'WorkorderTime',\n",
       "       'الورديه', 'Pump Name', 'Pumped Quantity', 'Pump Operator Name',\n",
       "       'Truck Name', 'Truck Quantity', 'User Name', 'week', 'Time',\n",
       "       'Mixer ahmed Ragab', 'TM', 'Customer Name_y', 'Cement Type_y',\n",
       "       'Project Location_y', 'Price', 'Valid From', 'Valid To',\n",
       "       'Project Location.1'],\n",
       "      dtype='object')"
      ]
     },
     "execution_count": 39,
     "metadata": {},
     "output_type": "execute_result"
    }
   ],
   "source": [
    "all_data.columns"
   ]
  },
  {
   "cell_type": "markdown",
   "id": "47b05eaf",
   "metadata": {},
   "source": [
    "# Calculating Recency\n"
   ]
  },
  {
   "cell_type": "code",
   "execution_count": 14,
   "id": "01d383dc",
   "metadata": {},
   "outputs": [
    {
     "data": {
      "text/html": [
       "<div>\n",
       "<style scoped>\n",
       "    .dataframe tbody tr th:only-of-type {\n",
       "        vertical-align: middle;\n",
       "    }\n",
       "\n",
       "    .dataframe tbody tr th {\n",
       "        vertical-align: top;\n",
       "    }\n",
       "\n",
       "    .dataframe thead th {\n",
       "        text-align: right;\n",
       "    }\n",
       "</style>\n",
       "<table border=\"1\" class=\"dataframe\">\n",
       "  <thead>\n",
       "    <tr style=\"text-align: right;\">\n",
       "      <th></th>\n",
       "      <th>Customer Name</th>\n",
       "      <th>LastPurchaseDate</th>\n",
       "      <th>Recency</th>\n",
       "    </tr>\n",
       "  </thead>\n",
       "  <tbody>\n",
       "    <tr>\n",
       "      <th>0</th>\n",
       "      <td>A.S.G.C. LLENSHAT</td>\n",
       "      <td>2022-03-14 17:56:39</td>\n",
       "      <td>44</td>\n",
       "    </tr>\n",
       "    <tr>\n",
       "      <th>1</th>\n",
       "      <td>CAIRO METRO LINE3</td>\n",
       "      <td>2022-04-20 05:53:36</td>\n",
       "      <td>8</td>\n",
       "    </tr>\n",
       "    <tr>\n",
       "      <th>2</th>\n",
       "      <td>DETAC</td>\n",
       "      <td>2022-04-27 16:45:38</td>\n",
       "      <td>0</td>\n",
       "    </tr>\n",
       "    <tr>\n",
       "      <th>3</th>\n",
       "      <td>Ethad Roaad Elhandasa</td>\n",
       "      <td>2022-04-28 07:52:07</td>\n",
       "      <td>0</td>\n",
       "    </tr>\n",
       "    <tr>\n",
       "      <th>4</th>\n",
       "      <td>Greater Cairo Metro</td>\n",
       "      <td>2022-04-27 16:51:41</td>\n",
       "      <td>0</td>\n",
       "    </tr>\n",
       "    <tr>\n",
       "      <th>5</th>\n",
       "      <td>H A Roads And Bridges</td>\n",
       "      <td>2022-04-20 12:11:18</td>\n",
       "      <td>7</td>\n",
       "    </tr>\n",
       "    <tr>\n",
       "      <th>6</th>\n",
       "      <td>Hassan Alaam</td>\n",
       "      <td>2022-04-13 09:24:31</td>\n",
       "      <td>14</td>\n",
       "    </tr>\n",
       "  </tbody>\n",
       "</table>\n",
       "</div>"
      ],
      "text/plain": [
       "           Customer Name    LastPurchaseDate  Recency\n",
       "0      A.S.G.C. LLENSHAT 2022-03-14 17:56:39       44\n",
       "1      CAIRO METRO LINE3 2022-04-20 05:53:36        8\n",
       "2                  DETAC 2022-04-27 16:45:38        0\n",
       "3  Ethad Roaad Elhandasa 2022-04-28 07:52:07        0\n",
       "4    Greater Cairo Metro 2022-04-27 16:51:41        0\n",
       "5  H A Roads And Bridges 2022-04-20 12:11:18        7\n",
       "6           Hassan Alaam 2022-04-13 09:24:31       14"
      ]
     },
     "execution_count": 14,
     "metadata": {},
     "output_type": "execute_result"
    }
   ],
   "source": [
    "#Here we are calculating recency for customers who had made a purchase with a company.\n",
    "\n",
    "df_recency = all_data.groupby(by='Customer Name_y', as_index=False)['WorkorderTime'].max()\n",
    "df_recency.columns = ['Customer Name', 'LastPurchaseDate']\n",
    "recent_date = df_recency['LastPurchaseDate'].max()\n",
    "df_recency['Recency'] = df_recency['LastPurchaseDate'].apply(\n",
    "lambda x: (recent_date - x).days)\n",
    "df_recency.head(15)"
   ]
  },
  {
   "cell_type": "markdown",
   "id": "2e02e0d2",
   "metadata": {},
   "source": [
    "# Calculating Frequency\n"
   ]
  },
  {
   "cell_type": "code",
   "execution_count": 40,
   "id": "43420ff2",
   "metadata": {},
   "outputs": [
    {
     "data": {
      "text/html": [
       "<div>\n",
       "<style scoped>\n",
       "    .dataframe tbody tr th:only-of-type {\n",
       "        vertical-align: middle;\n",
       "    }\n",
       "\n",
       "    .dataframe tbody tr th {\n",
       "        vertical-align: top;\n",
       "    }\n",
       "\n",
       "    .dataframe thead th {\n",
       "        text-align: right;\n",
       "    }\n",
       "</style>\n",
       "<table border=\"1\" class=\"dataframe\">\n",
       "  <thead>\n",
       "    <tr style=\"text-align: right;\">\n",
       "      <th></th>\n",
       "      <th>Customer Name</th>\n",
       "      <th>Frequency</th>\n",
       "    </tr>\n",
       "  </thead>\n",
       "  <tbody>\n",
       "    <tr>\n",
       "      <th>0</th>\n",
       "      <td>A.S.G.C. LLENSHAT</td>\n",
       "      <td>22890</td>\n",
       "    </tr>\n",
       "    <tr>\n",
       "      <th>1</th>\n",
       "      <td>CAIRO METRO LINE3</td>\n",
       "      <td>171</td>\n",
       "    </tr>\n",
       "    <tr>\n",
       "      <th>2</th>\n",
       "      <td>DETAC</td>\n",
       "      <td>3945</td>\n",
       "    </tr>\n",
       "    <tr>\n",
       "      <th>3</th>\n",
       "      <td>Ethad Roaad Elhandasa</td>\n",
       "      <td>92276</td>\n",
       "    </tr>\n",
       "    <tr>\n",
       "      <th>4</th>\n",
       "      <td>Greater Cairo Metro</td>\n",
       "      <td>12380</td>\n",
       "    </tr>\n",
       "    <tr>\n",
       "      <th>5</th>\n",
       "      <td>H A Roads And Bridges</td>\n",
       "      <td>66250</td>\n",
       "    </tr>\n",
       "    <tr>\n",
       "      <th>6</th>\n",
       "      <td>Hassan Alaam</td>\n",
       "      <td>620</td>\n",
       "    </tr>\n",
       "  </tbody>\n",
       "</table>\n",
       "</div>"
      ],
      "text/plain": [
       "           Customer Name  Frequency\n",
       "0      A.S.G.C. LLENSHAT      22890\n",
       "1      CAIRO METRO LINE3        171\n",
       "2                  DETAC       3945\n",
       "3  Ethad Roaad Elhandasa      92276\n",
       "4    Greater Cairo Metro      12380\n",
       "5  H A Roads And Bridges      66250\n",
       "6           Hassan Alaam        620"
      ]
     },
     "execution_count": 40,
     "metadata": {},
     "output_type": "execute_result"
    }
   ],
   "source": [
    "# We are here calculating the frequency of frequent transactions of the customer in ordering some product from the company.\n",
    "frequency_df = all_data.groupby(by=['Customer Name_y'], as_index=False)['TrnID'].count()\n",
    "frequency_df.columns = ['Customer Name', 'Frequency']\n",
    "frequency_df.head(10)"
   ]
  },
  {
   "cell_type": "markdown",
   "id": "068c4051",
   "metadata": {},
   "source": [
    "# Calculating Monetary Value\n"
   ]
  },
  {
   "cell_type": "code",
   "execution_count": 16,
   "id": "e393f592",
   "metadata": {},
   "outputs": [
    {
     "data": {
      "text/html": [
       "<div>\n",
       "<style scoped>\n",
       "    .dataframe tbody tr th:only-of-type {\n",
       "        vertical-align: middle;\n",
       "    }\n",
       "\n",
       "    .dataframe tbody tr th {\n",
       "        vertical-align: top;\n",
       "    }\n",
       "\n",
       "    .dataframe thead th {\n",
       "        text-align: right;\n",
       "    }\n",
       "</style>\n",
       "<table border=\"1\" class=\"dataframe\">\n",
       "  <thead>\n",
       "    <tr style=\"text-align: right;\">\n",
       "      <th></th>\n",
       "      <th>Customer Name</th>\n",
       "      <th>Monetary</th>\n",
       "    </tr>\n",
       "  </thead>\n",
       "  <tbody>\n",
       "    <tr>\n",
       "      <th>0</th>\n",
       "      <td>A.S.G.C. LLENSHAT</td>\n",
       "      <td>3189340</td>\n",
       "    </tr>\n",
       "    <tr>\n",
       "      <th>1</th>\n",
       "      <td>CAIRO METRO LINE3</td>\n",
       "      <td>29355</td>\n",
       "    </tr>\n",
       "    <tr>\n",
       "      <th>2</th>\n",
       "      <td>DETAC</td>\n",
       "      <td>585175</td>\n",
       "    </tr>\n",
       "    <tr>\n",
       "      <th>3</th>\n",
       "      <td>Ethad Roaad Elhandasa</td>\n",
       "      <td>16889222</td>\n",
       "    </tr>\n",
       "    <tr>\n",
       "      <th>4</th>\n",
       "      <td>Greater Cairo Metro</td>\n",
       "      <td>2025987</td>\n",
       "    </tr>\n",
       "    <tr>\n",
       "      <th>5</th>\n",
       "      <td>H A Roads And Bridges</td>\n",
       "      <td>13655475</td>\n",
       "    </tr>\n",
       "    <tr>\n",
       "      <th>6</th>\n",
       "      <td>Hassan Alaam</td>\n",
       "      <td>106826</td>\n",
       "    </tr>\n",
       "  </tbody>\n",
       "</table>\n",
       "</div>"
      ],
      "text/plain": [
       "           Customer Name  Monetary\n",
       "0      A.S.G.C. LLENSHAT   3189340\n",
       "1      CAIRO METRO LINE3     29355\n",
       "2                  DETAC    585175\n",
       "3  Ethad Roaad Elhandasa  16889222\n",
       "4    Greater Cairo Metro   2025987\n",
       "5  H A Roads And Bridges  13655475\n",
       "6           Hassan Alaam    106826"
      ]
     },
     "execution_count": 16,
     "metadata": {},
     "output_type": "execute_result"
    }
   ],
   "source": [
    "# Here we are calculating the monetary value of customer spend on purchasing products from the company.\n",
    "monetary_df = all_data.groupby(by='Customer Name_y', as_index=False)['Price'].sum()\n",
    "monetary_df.columns = ['Customer Name', 'Monetary']\n",
    "monetary_df.head(10)"
   ]
  },
  {
   "cell_type": "code",
   "execution_count": 17,
   "id": "dbce1b28",
   "metadata": {},
   "outputs": [
    {
     "data": {
      "text/html": [
       "<div>\n",
       "<style scoped>\n",
       "    .dataframe tbody tr th:only-of-type {\n",
       "        vertical-align: middle;\n",
       "    }\n",
       "\n",
       "    .dataframe tbody tr th {\n",
       "        vertical-align: top;\n",
       "    }\n",
       "\n",
       "    .dataframe thead th {\n",
       "        text-align: right;\n",
       "    }\n",
       "</style>\n",
       "<table border=\"1\" class=\"dataframe\">\n",
       "  <thead>\n",
       "    <tr style=\"text-align: right;\">\n",
       "      <th></th>\n",
       "      <th>Customer Name</th>\n",
       "      <th>Recency</th>\n",
       "      <th>Frequency</th>\n",
       "      <th>Monetary</th>\n",
       "    </tr>\n",
       "  </thead>\n",
       "  <tbody>\n",
       "    <tr>\n",
       "      <th>0</th>\n",
       "      <td>A.S.G.C. LLENSHAT</td>\n",
       "      <td>44</td>\n",
       "      <td>22890</td>\n",
       "      <td>3189340</td>\n",
       "    </tr>\n",
       "    <tr>\n",
       "      <th>1</th>\n",
       "      <td>CAIRO METRO LINE3</td>\n",
       "      <td>8</td>\n",
       "      <td>171</td>\n",
       "      <td>29355</td>\n",
       "    </tr>\n",
       "    <tr>\n",
       "      <th>2</th>\n",
       "      <td>DETAC</td>\n",
       "      <td>0</td>\n",
       "      <td>3945</td>\n",
       "      <td>585175</td>\n",
       "    </tr>\n",
       "    <tr>\n",
       "      <th>3</th>\n",
       "      <td>Ethad Roaad Elhandasa</td>\n",
       "      <td>0</td>\n",
       "      <td>92276</td>\n",
       "      <td>16889222</td>\n",
       "    </tr>\n",
       "    <tr>\n",
       "      <th>4</th>\n",
       "      <td>Greater Cairo Metro</td>\n",
       "      <td>0</td>\n",
       "      <td>12380</td>\n",
       "      <td>2025987</td>\n",
       "    </tr>\n",
       "    <tr>\n",
       "      <th>5</th>\n",
       "      <td>H A Roads And Bridges</td>\n",
       "      <td>7</td>\n",
       "      <td>66250</td>\n",
       "      <td>13655475</td>\n",
       "    </tr>\n",
       "    <tr>\n",
       "      <th>6</th>\n",
       "      <td>Hassan Alaam</td>\n",
       "      <td>14</td>\n",
       "      <td>620</td>\n",
       "      <td>106826</td>\n",
       "    </tr>\n",
       "  </tbody>\n",
       "</table>\n",
       "</div>"
      ],
      "text/plain": [
       "           Customer Name  Recency  Frequency  Monetary\n",
       "0      A.S.G.C. LLENSHAT       44      22890   3189340\n",
       "1      CAIRO METRO LINE3        8        171     29355\n",
       "2                  DETAC        0       3945    585175\n",
       "3  Ethad Roaad Elhandasa        0      92276  16889222\n",
       "4    Greater Cairo Metro        0      12380   2025987\n",
       "5  H A Roads And Bridges        7      66250  13655475\n",
       "6           Hassan Alaam       14        620    106826"
      ]
     },
     "execution_count": 17,
     "metadata": {},
     "output_type": "execute_result"
    }
   ],
   "source": [
    "rf_df = df_recency.merge(frequency_df, on='Customer Name')\n",
    "rfm_df = rf_df.merge(monetary_df, on='Customer Name').drop(columns='LastPurchaseDate')\n",
    "rfm_df"
   ]
  },
  {
   "cell_type": "markdown",
   "id": "b4e18b82",
   "metadata": {},
   "source": [
    "# Ranking Customer’s based upon their recency, frequency, and monetary score\n"
   ]
  },
  {
   "cell_type": "code",
   "execution_count": 18,
   "id": "d3829b20",
   "metadata": {},
   "outputs": [
    {
     "data": {
      "text/html": [
       "<div>\n",
       "<style scoped>\n",
       "    .dataframe tbody tr th:only-of-type {\n",
       "        vertical-align: middle;\n",
       "    }\n",
       "\n",
       "    .dataframe tbody tr th {\n",
       "        vertical-align: top;\n",
       "    }\n",
       "\n",
       "    .dataframe thead th {\n",
       "        text-align: right;\n",
       "    }\n",
       "</style>\n",
       "<table border=\"1\" class=\"dataframe\">\n",
       "  <thead>\n",
       "    <tr style=\"text-align: right;\">\n",
       "      <th></th>\n",
       "      <th>Customer Name</th>\n",
       "      <th>Recency</th>\n",
       "      <th>Frequency</th>\n",
       "      <th>Monetary</th>\n",
       "      <th>R_rank_norm</th>\n",
       "      <th>F_rank_norm</th>\n",
       "      <th>M_rank_norm</th>\n",
       "    </tr>\n",
       "  </thead>\n",
       "  <tbody>\n",
       "    <tr>\n",
       "      <th>0</th>\n",
       "      <td>A.S.G.C. LLENSHAT</td>\n",
       "      <td>44</td>\n",
       "      <td>22890</td>\n",
       "      <td>3189340</td>\n",
       "      <td>16.666667</td>\n",
       "      <td>71.428571</td>\n",
       "      <td>71.428571</td>\n",
       "    </tr>\n",
       "    <tr>\n",
       "      <th>1</th>\n",
       "      <td>CAIRO METRO LINE3</td>\n",
       "      <td>8</td>\n",
       "      <td>171</td>\n",
       "      <td>29355</td>\n",
       "      <td>50.000000</td>\n",
       "      <td>14.285714</td>\n",
       "      <td>14.285714</td>\n",
       "    </tr>\n",
       "    <tr>\n",
       "      <th>2</th>\n",
       "      <td>DETAC</td>\n",
       "      <td>0</td>\n",
       "      <td>3945</td>\n",
       "      <td>585175</td>\n",
       "      <td>100.000000</td>\n",
       "      <td>42.857143</td>\n",
       "      <td>42.857143</td>\n",
       "    </tr>\n",
       "    <tr>\n",
       "      <th>3</th>\n",
       "      <td>Ethad Roaad Elhandasa</td>\n",
       "      <td>0</td>\n",
       "      <td>92276</td>\n",
       "      <td>16889222</td>\n",
       "      <td>100.000000</td>\n",
       "      <td>100.000000</td>\n",
       "      <td>100.000000</td>\n",
       "    </tr>\n",
       "    <tr>\n",
       "      <th>4</th>\n",
       "      <td>Greater Cairo Metro</td>\n",
       "      <td>0</td>\n",
       "      <td>12380</td>\n",
       "      <td>2025987</td>\n",
       "      <td>100.000000</td>\n",
       "      <td>57.142857</td>\n",
       "      <td>57.142857</td>\n",
       "    </tr>\n",
       "    <tr>\n",
       "      <th>5</th>\n",
       "      <td>H A Roads And Bridges</td>\n",
       "      <td>7</td>\n",
       "      <td>66250</td>\n",
       "      <td>13655475</td>\n",
       "      <td>66.666667</td>\n",
       "      <td>85.714286</td>\n",
       "      <td>85.714286</td>\n",
       "    </tr>\n",
       "    <tr>\n",
       "      <th>6</th>\n",
       "      <td>Hassan Alaam</td>\n",
       "      <td>14</td>\n",
       "      <td>620</td>\n",
       "      <td>106826</td>\n",
       "      <td>33.333333</td>\n",
       "      <td>28.571429</td>\n",
       "      <td>28.571429</td>\n",
       "    </tr>\n",
       "  </tbody>\n",
       "</table>\n",
       "</div>"
      ],
      "text/plain": [
       "           Customer Name  Recency  Frequency  Monetary  R_rank_norm  \\\n",
       "0      A.S.G.C. LLENSHAT       44      22890   3189340    16.666667   \n",
       "1      CAIRO METRO LINE3        8        171     29355    50.000000   \n",
       "2                  DETAC        0       3945    585175   100.000000   \n",
       "3  Ethad Roaad Elhandasa        0      92276  16889222   100.000000   \n",
       "4    Greater Cairo Metro        0      12380   2025987   100.000000   \n",
       "5  H A Roads And Bridges        7      66250  13655475    66.666667   \n",
       "6           Hassan Alaam       14        620    106826    33.333333   \n",
       "\n",
       "   F_rank_norm  M_rank_norm  \n",
       "0    71.428571    71.428571  \n",
       "1    14.285714    14.285714  \n",
       "2    42.857143    42.857143  \n",
       "3   100.000000   100.000000  \n",
       "4    57.142857    57.142857  \n",
       "5    85.714286    85.714286  \n",
       "6    28.571429    28.571429  "
      ]
     },
     "execution_count": 18,
     "metadata": {},
     "output_type": "execute_result"
    }
   ],
   "source": [
    "# Here we are normalizing the rank of the customers within a company to analyze the ranking.\n",
    "rfm_df['R_rank'] = rfm_df['Recency'].rank(ascending=False)\n",
    "rfm_df['F_rank'] = rfm_df['Frequency'].rank(ascending=True)\n",
    "rfm_df['M_rank'] = rfm_df['Monetary'].rank(ascending=True)\n",
    "\n",
    "# normalizing the rank of the customers\n",
    "rfm_df['R_rank_norm'] = (rfm_df['R_rank']/rfm_df['R_rank'].max())*100\n",
    "rfm_df['F_rank_norm'] = (rfm_df['F_rank']/rfm_df['F_rank'].max())*100\n",
    "rfm_df['M_rank_norm'] = (rfm_df['F_rank']/rfm_df['M_rank'].max())*100\n",
    "\n",
    "rfm_df.drop(columns=['R_rank', 'F_rank', 'M_rank'], inplace=True)\n",
    "\n",
    "rfm_df.head(10)"
   ]
  },
  {
   "cell_type": "markdown",
   "id": "fc4c9987",
   "metadata": {},
   "source": [
    "# Calculating RFM score"
   ]
  },
  {
   "cell_type": "markdown",
   "id": "e6069f2b",
   "metadata": {},
   "source": [
    "\n",
    "RFM score is calculated based upon recency, frequency, monetary value normalize ranks. Based upon this score we divide our customers. Here we rate them on a scale of 5. Formula used for calculating rfm score is : 0.15Recency score + 0.28Frequency score + 0.57 *Monetary score"
   ]
  },
  {
   "cell_type": "code",
   "execution_count": 19,
   "id": "9e7ec141",
   "metadata": {},
   "outputs": [
    {
     "data": {
      "text/html": [
       "<div>\n",
       "<style scoped>\n",
       "    .dataframe tbody tr th:only-of-type {\n",
       "        vertical-align: middle;\n",
       "    }\n",
       "\n",
       "    .dataframe tbody tr th {\n",
       "        vertical-align: top;\n",
       "    }\n",
       "\n",
       "    .dataframe thead th {\n",
       "        text-align: right;\n",
       "    }\n",
       "</style>\n",
       "<table border=\"1\" class=\"dataframe\">\n",
       "  <thead>\n",
       "    <tr style=\"text-align: right;\">\n",
       "      <th></th>\n",
       "      <th>Customer Name</th>\n",
       "      <th>RFM_Score</th>\n",
       "    </tr>\n",
       "  </thead>\n",
       "  <tbody>\n",
       "    <tr>\n",
       "      <th>0</th>\n",
       "      <td>A.S.G.C. LLENSHAT</td>\n",
       "      <td>3.16</td>\n",
       "    </tr>\n",
       "    <tr>\n",
       "      <th>1</th>\n",
       "      <td>CAIRO METRO LINE3</td>\n",
       "      <td>0.98</td>\n",
       "    </tr>\n",
       "    <tr>\n",
       "      <th>2</th>\n",
       "      <td>DETAC</td>\n",
       "      <td>2.57</td>\n",
       "    </tr>\n",
       "    <tr>\n",
       "      <th>3</th>\n",
       "      <td>Ethad Roaad Elhandasa</td>\n",
       "      <td>5.00</td>\n",
       "    </tr>\n",
       "    <tr>\n",
       "      <th>4</th>\n",
       "      <td>Greater Cairo Metro</td>\n",
       "      <td>3.18</td>\n",
       "    </tr>\n",
       "    <tr>\n",
       "      <th>5</th>\n",
       "      <td>H A Roads And Bridges</td>\n",
       "      <td>4.14</td>\n",
       "    </tr>\n",
       "    <tr>\n",
       "      <th>6</th>\n",
       "      <td>Hassan Alaam</td>\n",
       "      <td>1.46</td>\n",
       "    </tr>\n",
       "  </tbody>\n",
       "</table>\n",
       "</div>"
      ],
      "text/plain": [
       "           Customer Name  RFM_Score\n",
       "0      A.S.G.C. LLENSHAT       3.16\n",
       "1      CAIRO METRO LINE3       0.98\n",
       "2                  DETAC       2.57\n",
       "3  Ethad Roaad Elhandasa       5.00\n",
       "4    Greater Cairo Metro       3.18\n",
       "5  H A Roads And Bridges       4.14\n",
       "6           Hassan Alaam       1.46"
      ]
     },
     "execution_count": 19,
     "metadata": {},
     "output_type": "execute_result"
    }
   ],
   "source": [
    "rfm_df['RFM_Score'] = 0.15*rfm_df['R_rank_norm']+0.28 * \\\n",
    "rfm_df['F_rank_norm']+0.57*rfm_df['M_rank_norm']\n",
    "rfm_df['RFM_Score'] *= 0.05\n",
    "rfm_df = rfm_df.round(2)\n",
    "rfm_df[['Customer Name', 'RFM_Score']].head(10)"
   ]
  },
  {
   "cell_type": "markdown",
   "id": "ddeb2bbf",
   "metadata": {},
   "source": [
    "# Rating Customer based upon the RFM score\n"
   ]
  },
  {
   "cell_type": "markdown",
   "id": "3a40db12",
   "metadata": {},
   "source": [
    "* rfm score >4.5 : Top Customer\n",
    "* 4.5 > rfm score > 4 : High Value Customer\n",
    "* 4>rfm score >3 : Medium value customer\n",
    "* 3>rfm score>1.6 : Low-value customer\n",
    "* rfm score<1.6 :Lost Customer"
   ]
  },
  {
   "cell_type": "code",
   "execution_count": 20,
   "id": "06995051",
   "metadata": {},
   "outputs": [
    {
     "data": {
      "text/html": [
       "<div>\n",
       "<style scoped>\n",
       "    .dataframe tbody tr th:only-of-type {\n",
       "        vertical-align: middle;\n",
       "    }\n",
       "\n",
       "    .dataframe tbody tr th {\n",
       "        vertical-align: top;\n",
       "    }\n",
       "\n",
       "    .dataframe thead th {\n",
       "        text-align: right;\n",
       "    }\n",
       "</style>\n",
       "<table border=\"1\" class=\"dataframe\">\n",
       "  <thead>\n",
       "    <tr style=\"text-align: right;\">\n",
       "      <th></th>\n",
       "      <th>Customer Name</th>\n",
       "      <th>RFM_Score</th>\n",
       "      <th>Customer_segment</th>\n",
       "    </tr>\n",
       "  </thead>\n",
       "  <tbody>\n",
       "    <tr>\n",
       "      <th>0</th>\n",
       "      <td>A.S.G.C. LLENSHAT</td>\n",
       "      <td>3.16</td>\n",
       "      <td>Medium Value Customer</td>\n",
       "    </tr>\n",
       "    <tr>\n",
       "      <th>1</th>\n",
       "      <td>CAIRO METRO LINE3</td>\n",
       "      <td>0.98</td>\n",
       "      <td>Lost Customers</td>\n",
       "    </tr>\n",
       "    <tr>\n",
       "      <th>2</th>\n",
       "      <td>DETAC</td>\n",
       "      <td>2.57</td>\n",
       "      <td>Low Value Customers</td>\n",
       "    </tr>\n",
       "    <tr>\n",
       "      <th>3</th>\n",
       "      <td>Ethad Roaad Elhandasa</td>\n",
       "      <td>5.00</td>\n",
       "      <td>Top Customers</td>\n",
       "    </tr>\n",
       "    <tr>\n",
       "      <th>4</th>\n",
       "      <td>Greater Cairo Metro</td>\n",
       "      <td>3.18</td>\n",
       "      <td>Medium Value Customer</td>\n",
       "    </tr>\n",
       "    <tr>\n",
       "      <th>5</th>\n",
       "      <td>H A Roads And Bridges</td>\n",
       "      <td>4.14</td>\n",
       "      <td>High value Customer</td>\n",
       "    </tr>\n",
       "    <tr>\n",
       "      <th>6</th>\n",
       "      <td>Hassan Alaam</td>\n",
       "      <td>1.46</td>\n",
       "      <td>Lost Customers</td>\n",
       "    </tr>\n",
       "  </tbody>\n",
       "</table>\n",
       "</div>"
      ],
      "text/plain": [
       "           Customer Name  RFM_Score       Customer_segment\n",
       "0      A.S.G.C. LLENSHAT       3.16  Medium Value Customer\n",
       "1      CAIRO METRO LINE3       0.98         Lost Customers\n",
       "2                  DETAC       2.57    Low Value Customers\n",
       "3  Ethad Roaad Elhandasa       5.00          Top Customers\n",
       "4    Greater Cairo Metro       3.18  Medium Value Customer\n",
       "5  H A Roads And Bridges       4.14    High value Customer\n",
       "6           Hassan Alaam       1.46         Lost Customers"
      ]
     },
     "execution_count": 20,
     "metadata": {},
     "output_type": "execute_result"
    }
   ],
   "source": [
    "rfm_df[\"Customer_segment\"] = np.where(rfm_df['RFM_Score'] > 4.5, \"Top Customers\", (np.where(rfm_df['RFM_Score'] > 4, \"High value Customer\", (np.where(rfm_df['RFM_Score'] > 3, \"Medium Value Customer\", np.where(rfm_df['RFM_Score'] > 1.6, 'Low Value Customers', 'Lost Customers'))))))\n",
    "rfm_df[['Customer Name', 'RFM_Score', 'Customer_segment']].head(10)"
   ]
  },
  {
   "cell_type": "markdown",
   "id": "d3279619",
   "metadata": {},
   "source": [
    "CAIRO METRO LINE3, Hassan Alaam, DETAC and A.S.G.C. LLENSHAT this is our goals to make them (top customers) or at least (High value Customer)\n",
    "but we must know why this custmoer are not top customer to take descision whith them?\n",
    "\n"
   ]
  },
  {
   "cell_type": "code",
   "execution_count": 21,
   "id": "1fbf542e",
   "metadata": {
    "scrolled": true
   },
   "outputs": [
    {
     "data": {
      "image/png": "[encoded data removed]",
      "text/plain": [
       "<Figure size 432x288 with 1 Axes>"
      ]
     },
     "metadata": {},
     "output_type": "display_data"
    }
   ],
   "source": [
    "#visualize customer segments\n",
    "plt.pie(rfm_df.Customer_segment.value_counts(),\n",
    "        labels=rfm_df.Customer_segment.value_counts().index,\n",
    "        autopct='%.0f%%')\n",
    "plt.show()"
   ]
  },
  {
   "cell_type": "code",
   "execution_count": 22,
   "id": "53622c95",
   "metadata": {},
   "outputs": [
    {
     "data": {
      "text/plain": [
       "Text(0, 0.5, 'Total Price')"
      ]
     },
     "execution_count": 22,
     "metadata": {},
     "output_type": "execute_result"
    },
    {
     "data": {
      "image/png": "[encoded data removed]",
      "text/plain": [
       "<Figure size 432x288 with 1 Axes>"
      ]
     },
     "metadata": {
      "needs_background": "light"
     },
     "output_type": "display_data"
    }
   ],
   "source": [
    "#create DataFrame total price for each company \n",
    "df_customer = pd.DataFrame(all_data.groupby('Customer Name_y')['Price'].std())\n",
    "df_customer.columns = ['Price']\n",
    "df_customer.sort_values(by='Price',ascending=True).plot(kind=\"barh\")\n",
    "\n",
    "#visualize Total price for each customer \n",
    "plt.title('Customer Price')\n",
    "plt.xlabel('Customer Name')\n",
    "plt.ylabel(\"Total Price\")"
   ]
  },
  {
   "cell_type": "code",
   "execution_count": 23,
   "id": "643d87ae",
   "metadata": {},
   "outputs": [
    {
     "data": {
      "text/html": [
       "<div>\n",
       "<style scoped>\n",
       "    .dataframe tbody tr th:only-of-type {\n",
       "        vertical-align: middle;\n",
       "    }\n",
       "\n",
       "    .dataframe tbody tr th {\n",
       "        vertical-align: top;\n",
       "    }\n",
       "\n",
       "    .dataframe thead th {\n",
       "        text-align: right;\n",
       "    }\n",
       "</style>\n",
       "<table border=\"1\" class=\"dataframe\">\n",
       "  <thead>\n",
       "    <tr style=\"text-align: right;\">\n",
       "      <th></th>\n",
       "      <th>Price</th>\n",
       "    </tr>\n",
       "    <tr>\n",
       "      <th>الورديه</th>\n",
       "      <th></th>\n",
       "    </tr>\n",
       "  </thead>\n",
       "  <tbody>\n",
       "    <tr>\n",
       "      <th>الورديه المسائيه</th>\n",
       "      <td>31.816222</td>\n",
       "    </tr>\n",
       "    <tr>\n",
       "      <th>الورديه النهاريه</th>\n",
       "      <td>28.460614</td>\n",
       "    </tr>\n",
       "  </tbody>\n",
       "</table>\n",
       "</div>"
      ],
      "text/plain": [
       "                      Price\n",
       "الورديه                    \n",
       "الورديه المسائيه  31.816222\n",
       "الورديه النهاريه  28.460614"
      ]
     },
     "execution_count": 23,
     "metadata": {},
     "output_type": "execute_result"
    }
   ],
   "source": [
    "#create DataFrame total price for each company \n",
    "df_customer = pd.DataFrame(all_data.groupby('الورديه')['Price'].std())\n",
    "df_customer.columns = ['Price']\n",
    "df_customer"
   ]
  },
  {
   "cell_type": "code",
   "execution_count": 24,
   "id": "8d0cd580",
   "metadata": {},
   "outputs": [
    {
     "data": {
      "text/plain": [
       "<AxesSubplot:ylabel='Pump Name'>"
      ]
     },
     "execution_count": 24,
     "metadata": {},
     "output_type": "execute_result"
    },
    {
     "data": {
      "image/png": "[encoded data removed]",
      "text/plain": [
       "<Figure size 432x288 with 1 Axes>"
      ]
     },
     "metadata": {
      "needs_background": "light"
     },
     "output_type": "display_data"
    }
   ],
   "source": [
    "#create DataFrame total price for each company \n",
    "df_customer = pd.DataFrame(all_data.groupby('Pump Name')['Price'].std())\n",
    "df_customer.columns = ['Price']\n",
    "\n",
    "df_customer.sort_values(by='Price',ascending=True).plot(kind=\"barh\")\n",
    "\n",
    "#visualize Total price for each customer "
   ]
  },
  {
   "cell_type": "code",
   "execution_count": 25,
   "id": "83811389",
   "metadata": {},
   "outputs": [
    {
     "data": {
      "text/plain": [
       "<AxesSubplot:xlabel='week'>"
      ]
     },
     "execution_count": 25,
     "metadata": {},
     "output_type": "execute_result"
    },
    {
     "data": {
      "image/png": "[encoded data removed]",
      "text/plain": [
       "<Figure size 432x288 with 1 Axes>"
      ]
     },
     "metadata": {
      "needs_background": "light"
     },
     "output_type": "display_data"
    }
   ],
   "source": [
    "#create DataFrame total price for each company \n",
    "df_customer = pd.DataFrame(all_data.groupby('week')['Price'].sum())\n",
    "df_customer.columns = ['Price']\n",
    "\n",
    "#visualize Total price for each customer \n",
    "df_customer.sort_values(by='Price',ascending=False).plot(kind=\"bar\")\n"
   ]
  },
  {
   "cell_type": "code",
   "execution_count": 26,
   "id": "77ccd217",
   "metadata": {},
   "outputs": [
    {
     "data": {
      "text/plain": [
       "<AxesSubplot:xlabel='Special Admixtures'>"
      ]
     },
     "execution_count": 26,
     "metadata": {},
     "output_type": "execute_result"
    },
    {
     "data": {
      "image/png": "[encoded data removed]",
      "text/plain": [
       "<Figure size 432x288 with 1 Axes>"
      ]
     },
     "metadata": {
      "needs_background": "light"
     },
     "output_type": "display_data"
    }
   ],
   "source": [
    "#create DataFrame total price for each company \n",
    "df_customer = pd.DataFrame(all_data.groupby('Special Admixtures')['Price'].sum())\n",
    "df_customer.columns = ['Price']\n",
    "\n",
    "#visualize Total price for each customer \n",
    "df_customer.sort_values(by='Price',ascending=False).plot(kind=\"bar\")\n"
   ]
  },
  {
   "cell_type": "code",
   "execution_count": 27,
   "id": "88b404c7",
   "metadata": {},
   "outputs": [
    {
     "data": {
      "text/plain": [
       "<AxesSubplot:ylabel='الشهر'>"
      ]
     },
     "execution_count": 27,
     "metadata": {},
     "output_type": "execute_result"
    },
    {
     "data": {
      "image/png": "[encoded data removed]",
      "text/plain": [
       "<Figure size 432x288 with 1 Axes>"
      ]
     },
     "metadata": {
      "needs_background": "light"
     },
     "output_type": "display_data"
    }
   ],
   "source": [
    "#create DataFrame total price for each company \n",
    "df_customer = pd.DataFrame(all_data.groupby('الشهر')['Price'].sum())\n",
    "df_customer.columns = ['Price']\n",
    "\n",
    "#visualize Total price for each customer \n",
    "df_customer.sort_values(by='Price',ascending=False).plot(kind=\"barh\")"
   ]
  },
  {
   "cell_type": "code",
   "execution_count": 28,
   "id": "258a9655",
   "metadata": {},
   "outputs": [
    {
     "data": {
      "text/html": [
       "<div>\n",
       "<style scoped>\n",
       "    .dataframe tbody tr th:only-of-type {\n",
       "        vertical-align: middle;\n",
       "    }\n",
       "\n",
       "    .dataframe tbody tr th {\n",
       "        vertical-align: top;\n",
       "    }\n",
       "\n",
       "    .dataframe thead th {\n",
       "        text-align: right;\n",
       "    }\n",
       "</style>\n",
       "<table border=\"1\" class=\"dataframe\">\n",
       "  <thead>\n",
       "    <tr style=\"text-align: right;\">\n",
       "      <th></th>\n",
       "      <th>Price</th>\n",
       "    </tr>\n",
       "    <tr>\n",
       "      <th>الشهر</th>\n",
       "      <th></th>\n",
       "    </tr>\n",
       "  </thead>\n",
       "  <tbody>\n",
       "    <tr>\n",
       "      <th>إبريل</th>\n",
       "      <td>6368684</td>\n",
       "    </tr>\n",
       "    <tr>\n",
       "      <th>فبراير</th>\n",
       "      <td>10084625</td>\n",
       "    </tr>\n",
       "    <tr>\n",
       "      <th>مارس</th>\n",
       "      <td>12337729</td>\n",
       "    </tr>\n",
       "    <tr>\n",
       "      <th>يناير</th>\n",
       "      <td>7690342</td>\n",
       "    </tr>\n",
       "  </tbody>\n",
       "</table>\n",
       "</div>"
      ],
      "text/plain": [
       "           Price\n",
       "الشهر           \n",
       "إبريل    6368684\n",
       "فبراير  10084625\n",
       "مارس    12337729\n",
       "يناير    7690342"
      ]
     },
     "execution_count": 28,
     "metadata": {},
     "output_type": "execute_result"
    }
   ],
   "source": [
    "df_customer"
   ]
  },
  {
   "cell_type": "code",
   "execution_count": 29,
   "id": "4a291730",
   "metadata": {},
   "outputs": [],
   "source": [
    "all_data.to_csv('dataAhmed')"
   ]
  }
 ],
 "metadata": {
  "kernelspec": {
   "display_name": "Python 3 (ipykernel)",
   "language": "python",
   "name": "python3"
  },
  "language_info": {
   "codemirror_mode": {
    "name": "ipython",
    "version": 3
   },
   "file_extension": ".py",
   "mimetype": "text/x-python",
   "name": "python",
   "nbconvert_exporter": "python",
   "pygments_lexer": "ipython3",
   "version": "3.9.12"
  }
 },
 "nbformat": 4,
 "nbformat_minor": 5
}
